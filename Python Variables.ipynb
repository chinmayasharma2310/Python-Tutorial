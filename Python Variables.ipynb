{
 "cells": [
  {
   "cell_type": "code",
   "execution_count": 1,
   "id": "1063769e",
   "metadata": {},
   "outputs": [
    {
     "name": "stdout",
     "output_type": "stream",
     "text": [
      "Python 3.9.7\n"
     ]
    }
   ],
   "source": [
    "!Python --version"
   ]
  },
  {
   "cell_type": "code",
   "execution_count": 2,
   "id": "08ce69b1",
   "metadata": {},
   "outputs": [],
   "source": [
    "# Variables in Python are the containers which holds the values. Values like numbers, string, computed results."
   ]
  },
  {
   "cell_type": "code",
   "execution_count": 3,
   "id": "f720d49e",
   "metadata": {},
   "outputs": [
    {
     "data": {
      "text/plain": [
       "12"
      ]
     },
     "execution_count": 3,
     "metadata": {},
     "output_type": "execute_result"
    }
   ],
   "source": [
    "# Storing a value in a variable\n",
    "\n",
    "numberOfApples = 12   # Variable name can include all uppercase alphabets (A-Z) and all lowercase alphabets(a-z), underscore\n",
    "numberOfApples        # and 0-9 digits. In addition, variable name cannot start with a digit."
   ]
  },
  {
   "cell_type": "code",
   "execution_count": 4,
   "id": "3846f0da",
   "metadata": {},
   "outputs": [
    {
     "data": {
      "text/plain": [
       "10"
      ]
     },
     "execution_count": 4,
     "metadata": {},
     "output_type": "execute_result"
    }
   ],
   "source": [
    "costOfOneApple = 10\n",
    "costOfOneApple"
   ]
  },
  {
   "cell_type": "code",
   "execution_count": 5,
   "id": "22d102c4",
   "metadata": {},
   "outputs": [
    {
     "data": {
      "text/plain": [
       "120"
      ]
     },
     "execution_count": 5,
     "metadata": {},
     "output_type": "execute_result"
    }
   ],
   "source": [
    "totalAmountPaid = numberOfApples * costOfOneApple\n",
    "totalAmountPaid"
   ]
  },
  {
   "cell_type": "code",
   "execution_count": 9,
   "id": "aaf902b0",
   "metadata": {},
   "outputs": [
    {
     "name": "stdout",
     "output_type": "stream",
     "text": [
      "Total amount paid: 120\n"
     ]
    }
   ],
   "source": [
    "print(\"Total amount paid:\",totalAmountPaid)"
   ]
  },
  {
   "cell_type": "code",
   "execution_count": 11,
   "id": "a7cc257c",
   "metadata": {},
   "outputs": [
    {
     "data": {
      "text/plain": [
       "int"
      ]
     },
     "execution_count": 11,
     "metadata": {},
     "output_type": "execute_result"
    }
   ],
   "source": [
    "type(totalAmountPaid)"
   ]
  },
  {
   "cell_type": "code",
   "execution_count": 13,
   "id": "4381ada3",
   "metadata": {},
   "outputs": [
    {
     "name": "stdout",
     "output_type": "stream",
     "text": [
      "HelloWorld\n"
     ]
    }
   ],
   "source": [
    "# Storing string to the variable\n",
    "\n",
    "Str_1 = \"Hello\"\n",
    "Str_2 = \"World\"\n",
    "\n",
    "print(Str_1 + Str_2)"
   ]
  },
  {
   "cell_type": "code",
   "execution_count": 19,
   "id": "b271bbd2",
   "metadata": {},
   "outputs": [
    {
     "name": "stdout",
     "output_type": "stream",
     "text": [
      "HelloHelloHello\n"
     ]
    }
   ],
   "source": [
    "print(Str_1 * 3)"
   ]
  },
  {
   "cell_type": "code",
   "execution_count": 25,
   "id": "a5226d56",
   "metadata": {},
   "outputs": [
    {
     "name": "stdout",
     "output_type": "stream",
     "text": [
      "HelloHelloHelloHello\n"
     ]
    },
    {
     "data": {
      "text/plain": [
       "20"
      ]
     },
     "execution_count": 25,
     "metadata": {},
     "output_type": "execute_result"
    }
   ],
   "source": [
    "concateStr_1 = Str_1 * 4\n",
    "\n",
    "print(concateStr_1)\n",
    "len(concateStr_1)"
   ]
  },
  {
   "cell_type": "code",
   "execution_count": 26,
   "id": "58b1c619",
   "metadata": {},
   "outputs": [
    {
     "name": "stdout",
     "output_type": "stream",
     "text": [
      "HelloHelloHelloHello!\n"
     ]
    },
    {
     "data": {
      "text/plain": [
       "20"
      ]
     },
     "execution_count": 26,
     "metadata": {},
     "output_type": "execute_result"
    }
   ],
   "source": [
    "concateStr_1 = Str_1 * 4\n",
    "\n",
    "print(concateStr_1 + \"!\") # Note: concatinating '!' to the concateStr_1 EXPLICITLY does not change the string value stored\n",
    "len(concateStr_1)         # in the concateStr_1. That's why the length of concateStr_1 is still 20."
   ]
  },
  {
   "cell_type": "code",
   "execution_count": 27,
   "id": "43377602",
   "metadata": {},
   "outputs": [
    {
     "name": "stdout",
     "output_type": "stream",
     "text": [
      "Python\n",
      "Python\n",
      "Python\n"
     ]
    }
   ],
   "source": [
    "var1 = var2 = var3 = \"Python\" # used to store same value to multiple variables.\n",
    "\n",
    "print(var1)\n",
    "print(var2)\n",
    "print(var3)"
   ]
  },
  {
   "cell_type": "code",
   "execution_count": 28,
   "id": "21c5f497",
   "metadata": {},
   "outputs": [
    {
     "name": "stdout",
     "output_type": "stream",
     "text": [
      "True\n"
     ]
    }
   ],
   "source": [
    "print(var1 == var2) # \"==\" comparision operator returns True if the values are same for the variable else return False."
   ]
  },
  {
   "cell_type": "code",
   "execution_count": 31,
   "id": "6f98e9b9",
   "metadata": {},
   "outputs": [
    {
     "name": "stdout",
     "output_type": "stream",
     "text": [
      "2\n",
      "3.5\n",
      "String\n",
      "2\n",
      "3.5\n",
      "String\n"
     ]
    }
   ],
   "source": [
    "x = 2\n",
    "y = 3.5\n",
    "z = \"String\"\n",
    "print(x)\n",
    "print(y)\n",
    "print(z)\n",
    "\n",
    "# Assigning different values to different variable in single line\n",
    "\n",
    "x, y, z = 2, 3.5, \"String\"\n",
    "print(x)\n",
    "print(y)\n",
    "print(z)"
   ]
  },
  {
   "cell_type": "code",
   "execution_count": 32,
   "id": "139c3450",
   "metadata": {},
   "outputs": [
    {
     "name": "stdout",
     "output_type": "stream",
     "text": [
      "20 30 20\n"
     ]
    }
   ],
   "source": [
    "# Assigning values through variable\n",
    "x = 20\n",
    "y = 30\n",
    "\n",
    "z = x #Storing the value of x in the new container z.\n",
    "\n",
    "print(x, y, z)"
   ]
  },
  {
   "cell_type": "code",
   "execution_count": 34,
   "id": "81aa487c",
   "metadata": {},
   "outputs": [
    {
     "name": "stdout",
     "output_type": "stream",
     "text": [
      "52\n"
     ]
    }
   ],
   "source": [
    "x += y + 2\n",
    "print(x)"
   ]
  },
  {
   "cell_type": "code",
   "execution_count": 35,
   "id": "abec7628",
   "metadata": {},
   "outputs": [
    {
     "name": "stdout",
     "output_type": "stream",
     "text": [
      "20\n"
     ]
    }
   ],
   "source": [
    "print(z) # Value of z will not change as it a new storing location. "
   ]
  },
  {
   "cell_type": "code",
   "execution_count": null,
   "id": "ba4e7253",
   "metadata": {},
   "outputs": [],
   "source": []
  }
 ],
 "metadata": {
  "kernelspec": {
   "display_name": "Python 3 (ipykernel)",
   "language": "python",
   "name": "python3"
  },
  "language_info": {
   "codemirror_mode": {
    "name": "ipython",
    "version": 3
   },
   "file_extension": ".py",
   "mimetype": "text/x-python",
   "name": "python",
   "nbconvert_exporter": "python",
   "pygments_lexer": "ipython3",
   "version": "3.9.7"
  }
 },
 "nbformat": 4,
 "nbformat_minor": 5
}
