{
 "cells": [
  {
   "cell_type": "code",
   "execution_count": 1,
   "metadata": {},
   "outputs": [],
   "source": [
    "# Python Set: \n",
    "# collection of unordered items.\n",
    "# Set are mutuable.\n",
    "# Elements of sets should be unique and immutable. (list, dictoinary, set are mutuable so cannot be in the set as elements)\n",
    "# Sets cannot be accessed by index"
   ]
  },
  {
   "cell_type": "code",
   "execution_count": 3,
   "metadata": {},
   "outputs": [
    {
     "name": "stdout",
     "output_type": "stream",
     "text": [
      "<class 'set'>\n",
      "<class 'dict'>\n"
     ]
    }
   ],
   "source": [
    "empty_set = set()     # empty set cannot be define with {} because this is how dictoinary is defined.\n",
    "print(type(empty_set))\n",
    "\n",
    "set1 = {}     # Declaration of dictionary\n",
    "print(type(set1))"
   ]
  },
  {
   "cell_type": "code",
   "execution_count": 8,
   "metadata": {},
   "outputs": [
    {
     "ename": "TypeError",
     "evalue": "'set' object is not callable",
     "output_type": "error",
     "traceback": [
      "\u001b[1;31m---------------------------------------------------------------------------\u001b[0m",
      "\u001b[1;31mTypeError\u001b[0m                                 Traceback (most recent call last)",
      "\u001b[1;32mC:\\Users\\CHINMA~1.SHA\\AppData\\Local\\Temp/ipykernel_9488/1091748418.py\u001b[0m in \u001b[0;36m<module>\u001b[1;34m\u001b[0m\n\u001b[1;32m----> 1\u001b[1;33m \u001b[0mset1\u001b[0m \u001b[1;33m=\u001b[0m \u001b[0mset\u001b[0m\u001b[1;33m(\u001b[0m\u001b[1;33m[\u001b[0m\u001b[1;36m10\u001b[0m\u001b[1;33m,\u001b[0m\u001b[1;36m20\u001b[0m\u001b[1;33m,\u001b[0m\u001b[1;34m'john'\u001b[0m\u001b[1;33m,\u001b[0m\u001b[1;36m98.8\u001b[0m\u001b[1;33m]\u001b[0m\u001b[1;33m)\u001b[0m\u001b[1;33m\u001b[0m\u001b[1;33m\u001b[0m\u001b[0m\n\u001b[0m\u001b[0;32m      2\u001b[0m \u001b[0mprint\u001b[0m\u001b[1;33m(\u001b[0m\u001b[0mset1\u001b[0m\u001b[1;33m)\u001b[0m\u001b[1;33m\u001b[0m\u001b[1;33m\u001b[0m\u001b[0m\n\u001b[0;32m      3\u001b[0m \u001b[1;33m\u001b[0m\u001b[0m\n\u001b[0;32m      4\u001b[0m \u001b[0mset2\u001b[0m \u001b[1;33m=\u001b[0m \u001b[1;33m{\u001b[0m\u001b[1;36m10\u001b[0m\u001b[1;33m,\u001b[0m\u001b[1;36m20\u001b[0m\u001b[1;33m,\u001b[0m\u001b[1;34m'Ram'\u001b[0m\u001b[1;33m,\u001b[0m\u001b[1;36m78\u001b[0m\u001b[1;33m,\u001b[0m\u001b[1;34m'john'\u001b[0m\u001b[1;33m}\u001b[0m\u001b[1;33m\u001b[0m\u001b[1;33m\u001b[0m\u001b[0m\n\u001b[0;32m      5\u001b[0m \u001b[1;33m\u001b[0m\u001b[0m\n",
      "\u001b[1;31mTypeError\u001b[0m: 'set' object is not callable"
     ]
    }
   ],
   "source": [
    "set1 = set([10,20,'john',98.8])\n",
    "print(set1)\n",
    "\n",
    "set2 = {10,20,'Ram',78,'john'}\n",
    "\n",
    "for i in set2:\n",
    "    print(i)"
   ]
  },
  {
   "cell_type": "code",
   "execution_count": 12,
   "metadata": {},
   "outputs": [
    {
     "name": "stdout",
     "output_type": "stream",
     "text": [
      "{70, 40, 10, 80, 20, 60, 30}\n",
      "{70, 40, 10, 80, 20, 60, 30}\n",
      "{40, 20}\n",
      "{40, 20}\n",
      "{'fri'}\n",
      "{10, 30}\n",
      "{80, 60, 70}\n",
      "{80, 70, 10, 60, 30}\n",
      "{70, 10, 80, 60, 30}\n"
     ]
    }
   ],
   "source": [
    "# Set Operation:\n",
    "\n",
    "# 1. Union: Sums up the elements of both the sets.\n",
    "\n",
    "set1 = {10,20,30,40}\n",
    "set2 = set([20,40,60,70,80])\n",
    "set3 = set1 | set2     # | used for union\n",
    "print(set3)\n",
    "\n",
    "set3 = set1.union(set2) # union() method \n",
    "print(set3)\n",
    "\n",
    "#2. Intersection: Elements common is bothe the sets\n",
    "\n",
    "set3 = set1 & set2    # & operator for intersection\n",
    "print(set3)\n",
    "\n",
    "set3 = set1.intersection(set2)    # can also use intersection()\n",
    "print(set3)\n",
    "\n",
    "# intersection.update(): removes the elements from original set which are not present in both sets\n",
    "\n",
    "a = {'Monday','tuesday','wednesday','fri'}\n",
    "b = {'wednesday','thrus','fri'}\n",
    "c = {'sat','sun','fri'} \n",
    "a.intersection_update(b,c) # common in b and c -> fri, this  intersection with a , result = fri.\n",
    "print(a)\n",
    "\n",
    "#3. Difference: Elements present in one set but not other\n",
    "\n",
    "set3 = set1 - set2  # Elements of set1 not present in set2\n",
    "print(set3)\n",
    "\n",
    "set3 = set2.difference(set1)  #Elements of set2 not present in set1\n",
    "print(set3)\n",
    "\n",
    "#4. Symmetric Difference: Removes the element present in both the sets\n",
    "\n",
    "set3 = set1 ^ set2\n",
    "print(set3)\n",
    "\n",
    "set3 = set2.symmetric_difference(set1)\n",
    "print(set3)"
   ]
  },
  {
   "cell_type": "code",
   "execution_count": 13,
   "metadata": {},
   "outputs": [
    {
     "name": "stdout",
     "output_type": "stream",
     "text": [
      "<class 'frozenset'>\n"
     ]
    },
    {
     "ename": "AttributeError",
     "evalue": "type object 'frozenset' has no attribute 'add'",
     "output_type": "error",
     "traceback": [
      "\u001b[1;31m---------------------------------------------------------------------------\u001b[0m",
      "\u001b[1;31mAttributeError\u001b[0m                            Traceback (most recent call last)",
      "\u001b[1;32mC:\\Users\\CHINMA~1.SHA\\AppData\\Local\\Temp/ipykernel_17288/2135603750.py\u001b[0m in \u001b[0;36m<module>\u001b[1;34m\u001b[0m\n\u001b[0;32m      4\u001b[0m \u001b[0mprint\u001b[0m\u001b[1;33m(\u001b[0m\u001b[0mtype\u001b[0m\u001b[1;33m(\u001b[0m\u001b[0mfrozen_set\u001b[0m\u001b[1;33m)\u001b[0m\u001b[1;33m)\u001b[0m\u001b[1;33m\u001b[0m\u001b[1;33m\u001b[0m\u001b[0m\n\u001b[0;32m      5\u001b[0m \u001b[1;33m\u001b[0m\u001b[0m\n\u001b[1;32m----> 6\u001b[1;33m \u001b[0mfrozen_set\u001b[0m \u001b[1;33m=\u001b[0m \u001b[0mfrozenset\u001b[0m\u001b[1;33m.\u001b[0m\u001b[0madd\u001b[0m\u001b[1;33m(\u001b[0m\u001b[1;36m6\u001b[0m\u001b[1;33m)\u001b[0m\u001b[1;33m\u001b[0m\u001b[1;33m\u001b[0m\u001b[0m\n\u001b[0m\u001b[0;32m      7\u001b[0m \u001b[0mprint\u001b[0m\u001b[1;33m(\u001b[0m\u001b[0mfrozen_set\u001b[0m\u001b[1;33m)\u001b[0m\u001b[1;33m\u001b[0m\u001b[1;33m\u001b[0m\u001b[0m\n",
      "\u001b[1;31mAttributeError\u001b[0m: type object 'frozenset' has no attribute 'add'"
     ]
    }
   ],
   "source": [
    "# FrozenSet: This is an immutable form of normal set. It is used as key in dictionary.\n",
    "\n",
    "frozen_set = frozenset([1,2,3,4])\n",
    "print(type(frozen_set))\n",
    "\n",
    "frozen_set = frozenset.add(6)   # immutable so cannot be added.\n",
    "print(frozen_set)"
   ]
  },
  {
   "cell_type": "code",
   "execution_count": null,
   "metadata": {},
   "outputs": [],
   "source": []
  }
 ],
 "metadata": {
  "interpreter": {
   "hash": "98d9bd69ea908facd27b3fc318b7d420700aac341b244a49ee75107e21aac482"
  },
  "kernelspec": {
   "display_name": "Python 3.9.7 64-bit ('base': conda)",
   "language": "python",
   "name": "python3"
  },
  "language_info": {
   "codemirror_mode": {
    "name": "ipython",
    "version": 3
   },
   "file_extension": ".py",
   "mimetype": "text/x-python",
   "name": "python",
   "nbconvert_exporter": "python",
   "pygments_lexer": "ipython3",
   "version": "3.9.7"
  },
  "orig_nbformat": 4
 },
 "nbformat": 4,
 "nbformat_minor": 2
}
