{
 "cells": [
  {
   "cell_type": "code",
   "execution_count": 3,
   "metadata": {},
   "outputs": [],
   "source": [
    "# Python List: is used to store the sequence of data which is mutuable in nature.(can modify its element after we created it)"
   ]
  },
  {
   "cell_type": "code",
   "execution_count": 4,
   "metadata": {},
   "outputs": [
    {
     "data": {
      "text/plain": [
       "list"
      ]
     },
     "execution_count": 4,
     "metadata": {},
     "output_type": "execute_result"
    }
   ],
   "source": [
    "list = [1,\"Python\", 3.7]\n",
    "type(list)"
   ]
  },
  {
   "cell_type": "code",
   "execution_count": 5,
   "metadata": {},
   "outputs": [
    {
     "data": {
      "text/plain": [
       "False"
      ]
     },
     "execution_count": 5,
     "metadata": {},
     "output_type": "execute_result"
    }
   ],
   "source": [
    "#List are ordered and also called ordered collection of objects.\n",
    "\n",
    "List1 = [1,2.5,\"abc\",3,\"bcd\"]\n",
    "List2 = [1,2.5,\"abc\",\"bcd\",3]\n",
    "\n",
    "List1 == List2"
   ]
  },
  {
   "cell_type": "code",
   "execution_count": 11,
   "metadata": {},
   "outputs": [
    {
     "name": "stdout",
     "output_type": "stream",
     "text": [
      "Name of the owner:  Mr. Mark\n",
      "Complete Address of house:  [42, 'Orchid Farms', 'New Delhi', 281123]\n",
      "House Number:  42 Street Name:  Orchid Farms City:  New Delhi Pincode:  281123\n",
      "Name of Tenant 1:  John Name of Tenant 2:  Harry Name of Tenant 3:  Charles\n",
      "Total Amount Paid 3000\n",
      "Amount paid by indivisual Tenant:  1000.0\n",
      "House N0. 42, Street: Orchid Farms, City: New Delhi, Pincode: 281123\n"
     ]
    }
   ],
   "source": [
    "#List can be accessed by its index.\n",
    "\n",
    "Address = [42, \"Orchid Farms\",\"New Delhi\", 281123]\n",
    "tenant = [\"John\",\"Harry\",\"Charles\"]\n",
    "TotalAmountPaid= 3000\n",
    "Owner =\"Mr. Mark\"\n",
    "\n",
    "print(\"Name of the owner: \", Owner)\n",
    "print(\"Complete Address of house: \", Address)\n",
    "print(\"House Number: \",Address[0],\"Street Name: \",Address[1],\"City: \",Address[2],\"Pincode: \",Address[3])\n",
    "print(\"Name of Tenant 1: \",tenant[0],\"Name of Tenant 2: \",tenant[1],\"Name of Tenant 3: \", tenant[2] )\n",
    "print(\"Total Amount Paid\", TotalAmountPaid)\n",
    "print(\"Amount paid by indivisual Tenant: \",TotalAmountPaid/3)\n",
    "\n",
    "#Alternative way to access index for List\n",
    "print(\"House N0. %s, Street: %s, City: %s, Pincode: %d\" %(Address[0],Address[1],Address[2],Address[3]))"
   ]
  },
  {
   "cell_type": "code",
   "execution_count": 33,
   "metadata": {},
   "outputs": [
    {
     "name": "stdout",
     "output_type": "stream",
     "text": [
      "10\n",
      "Richa\n",
      "9.8\n",
      "[10, 12, 3, 54, 28, 7, 65, 'Richa', 9.8]\n",
      "[12, 3, 54, 28, 7, 65, 'Richa']\n",
      "[3, 54, 28, 7, 65]\n",
      "[3, 28, 65]\n",
      "9.8\n",
      "[10, 12, 3, 54, 28, 7, 65, 'Richa']\n",
      "[3, 54, 28, 7, 65]\n"
     ]
    }
   ],
   "source": [
    "# Slicing in List\n",
    "\n",
    "List = [ 10,12,3,54,28,7,65,\"Richa\",9.8]\n",
    "\n",
    "#Slicing Syntax: list[start:stop:step]\n",
    "#Start= Starting index; stop= ending index but exclusive; step= step to skip.\n",
    "\n",
    "print(List[0])\n",
    "print(List[7])\n",
    "print(List[8])\n",
    "\n",
    "print(List[0:9]) # 9th index exclusive\n",
    "print(List[1:8])\n",
    "print(List[2:7])\n",
    "print(List[2:7:2])# skip every 1 element.\n",
    "\n",
    "#Using negative slicing\n",
    "print(List[-1]) # first index from rightmost\n",
    "print(List[-9:-1])\n",
    "print(List[-7:-2])"
   ]
  },
  {
   "cell_type": "code",
   "execution_count": 38,
   "metadata": {},
   "outputs": [
    {
     "name": "stdout",
     "output_type": "stream",
     "text": [
      "[1, 2, 3, 4, 1, 2, 3, 4, 1, 2, 3, 4]\n",
      "[1, 2, 3, 4, 6, 7, 2, 8]\n",
      "True\n",
      "1\n",
      "2\n",
      "3\n",
      "4\n",
      "[6, 7, 8]\n"
     ]
    },
    {
     "data": {
      "text/plain": [
       "4"
      ]
     },
     "execution_count": 38,
     "metadata": {},
     "output_type": "execute_result"
    }
   ],
   "source": [
    "#Operations in List\n",
    "\n",
    "list = [1,2,3,4]\n",
    "print(list * 3)\n",
    "\n",
    "list2 = [6,7,2,8]\n",
    "print( list + list2)\n",
    "\n",
    "print(3 in list) #membership: to search the element in list returns True if yes otherwise False\n",
    "\n",
    "for i in list: #iterating the list, prints the element present at the index\n",
    "    print(i)\n",
    "\n",
    "list2.remove(2)\n",
    "print(list2)\n",
    "\n",
    "len(list) #length of the list"
   ]
  },
  {
   "cell_type": "code",
   "execution_count": 40,
   "metadata": {},
   "outputs": [],
   "source": [
    "# Built-in Functions of List\n"
   ]
  },
  {
   "cell_type": "code",
   "execution_count": null,
   "metadata": {},
   "outputs": [],
   "source": []
  }
 ],
 "metadata": {
  "interpreter": {
   "hash": "98d9bd69ea908facd27b3fc318b7d420700aac341b244a49ee75107e21aac482"
  },
  "kernelspec": {
   "display_name": "Python 3.9.7 64-bit ('base': conda)",
   "language": "python",
   "name": "python3"
  },
  "language_info": {
   "codemirror_mode": {
    "name": "ipython",
    "version": 3
   },
   "file_extension": ".py",
   "mimetype": "text/x-python",
   "name": "python",
   "nbconvert_exporter": "python",
   "pygments_lexer": "ipython3",
   "version": "3.9.7"
  },
  "orig_nbformat": 4
 },
 "nbformat": 4,
 "nbformat_minor": 2
}
