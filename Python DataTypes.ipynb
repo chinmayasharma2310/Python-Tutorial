{
 "cells": [
  {
   "cell_type": "code",
   "execution_count": 1,
   "id": "0bed73a1",
   "metadata": {},
   "outputs": [
    {
     "name": "stdout",
     "output_type": "stream",
     "text": [
      "Python 3.9.7\n"
     ]
    }
   ],
   "source": [
    "!Python --version"
   ]
  },
  {
   "cell_type": "code",
   "execution_count": 2,
   "id": "84a0f9eb",
   "metadata": {},
   "outputs": [],
   "source": [
    "# DataType defines the format and sets the lower and upper bound of the data so that the program could use it appropriately."
   ]
  },
  {
   "cell_type": "code",
   "execution_count": 3,
   "id": "7bc0c747",
   "metadata": {},
   "outputs": [
    {
     "data": {
      "text/plain": [
       "int"
      ]
     },
     "execution_count": 3,
     "metadata": {},
     "output_type": "execute_result"
    }
   ],
   "source": [
    "type(34)  #int is short of the Integer"
   ]
  },
  {
   "cell_type": "code",
   "execution_count": 4,
   "id": "9bcd4803",
   "metadata": {},
   "outputs": [
    {
     "data": {
      "text/plain": [
       "float"
      ]
     },
     "execution_count": 4,
     "metadata": {},
     "output_type": "execute_result"
    }
   ],
   "source": [
    "type(34.5)"
   ]
  },
  {
   "cell_type": "code",
   "execution_count": 7,
   "id": "8cfa46ea",
   "metadata": {},
   "outputs": [
    {
     "name": "stdout",
     "output_type": "stream",
     "text": [
      "Data type of  3.9j is  <class 'complex'>\n"
     ]
    }
   ],
   "source": [
    "var = 3.9j\n",
    "'''We don't need to specify the data type of the variable in Python. This feature is called Dynamic Typing. It determines the \n",
    "type of literal directly from the syntax at the runtime.'''\n",
    "\n",
    "print(\"Data type of \", var, \"is \", type(var))"
   ]
  },
  {
   "cell_type": "code",
   "execution_count": 8,
   "id": "51e48842",
   "metadata": {},
   "outputs": [
    {
     "data": {
      "text/plain": [
       "bool"
      ]
     },
     "execution_count": 8,
     "metadata": {},
     "output_type": "execute_result"
    }
   ],
   "source": [
    "boolenVar = True\n",
    "type(boolenVar)"
   ]
  },
  {
   "cell_type": "code",
   "execution_count": 21,
   "id": "4efa6f8b",
   "metadata": {},
   "outputs": [
    {
     "name": "stdout",
     "output_type": "stream",
     "text": [
      "I'm a \"Python\" learner\n",
      "It's so good. I 'm happy. \"Hello There\"\n"
     ]
    }
   ],
   "source": [
    "type(\"prompt\")\n",
    "print(\"I'm a \\\"Python\\\" learner\") # \\ used when a statement has ' and \" \" in it.\n",
    "\n",
    "print(\"It's so good. \" + 'I \\'m happy. ' + \"\\\"Hello There\\\"\")"
   ]
  },
  {
   "cell_type": "code",
   "execution_count": 12,
   "id": "51224744",
   "metadata": {},
   "outputs": [
    {
     "name": "stdout",
     "output_type": "stream",
     "text": [
      "3\n",
      "<class 'int'>\n"
     ]
    }
   ],
   "source": [
    "print(0b011)\n",
    "print(type(0b011))\n",
    "\n",
    "# Python supports binary, octal or hexadecimal value also. Here 0b is indicating its binary and 011 in decimal is 3."
   ]
  },
  {
   "cell_type": "code",
   "execution_count": 2,
   "id": "12162259",
   "metadata": {},
   "outputs": [
    {
     "name": "stdout",
     "output_type": "stream",
     "text": [
      "hello1\n"
     ]
    }
   ],
   "source": [
    "print(\"hello1\")"
   ]
  },
  {
   "cell_type": "code",
   "execution_count": null,
   "id": "fa5d219b",
   "metadata": {},
   "outputs": [],
   "source": []
  }
 ],
 "metadata": {
  "kernelspec": {
   "display_name": "Python 3 (ipykernel)",
   "language": "python",
   "name": "python3"
  },
  "language_info": {
   "codemirror_mode": {
    "name": "ipython",
    "version": 3
   },
   "file_extension": ".py",
   "mimetype": "text/x-python",
   "name": "python",
   "nbconvert_exporter": "python",
   "pygments_lexer": "ipython3",
   "version": "3.9.7"
  }
 },
 "nbformat": 4,
 "nbformat_minor": 5
}
