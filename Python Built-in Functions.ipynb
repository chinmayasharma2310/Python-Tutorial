{
 "cells": [
  {
   "cell_type": "code",
   "execution_count": 27,
   "id": "50304ed7",
   "metadata": {},
   "outputs": [
    {
     "name": "stdout",
     "output_type": "stream",
     "text": [
      "Python 3.9.7\n"
     ]
    }
   ],
   "source": [
    "!Python --version"
   ]
  },
  {
   "cell_type": "code",
   "execution_count": 28,
   "id": "924ff441",
   "metadata": {},
   "outputs": [],
   "source": [
    "#Functions are the reusable bits of code which performs some operations. It's a name which invoked using brackets."
   ]
  },
  {
   "cell_type": "code",
   "execution_count": 29,
   "id": "5cd40a23",
   "metadata": {},
   "outputs": [
    {
     "data": {
      "text/plain": [
       "'Hello world'"
      ]
     },
     "execution_count": 29,
     "metadata": {},
     "output_type": "execute_result"
    }
   ],
   "source": [
    "'Hello world'  # Jupyter notebook itself echoes the string trapped in the ' ' or \" \""
   ]
  },
  {
   "cell_type": "code",
   "execution_count": 30,
   "id": "bf617870",
   "metadata": {},
   "outputs": [
    {
     "name": "stdout",
     "output_type": "stream",
     "text": [
      "Hello world\n"
     ]
    }
   ],
   "source": [
    "print(\"Hello world\") # if not using Jupyter notebook then print() helps to display the string explicitly."
   ]
  },
  {
   "cell_type": "code",
   "execution_count": 31,
   "id": "f783ee4d",
   "metadata": {},
   "outputs": [
    {
     "data": {
      "text/plain": [
       "13"
      ]
     },
     "execution_count": 31,
     "metadata": {},
     "output_type": "execute_result"
    }
   ],
   "source": [
    "len(\"Good Morning!\") # Counts the characters of the string"
   ]
  },
  {
   "cell_type": "code",
   "execution_count": 2,
   "id": "f10258a4",
   "metadata": {},
   "outputs": [
    {
     "data": {
      "text/plain": [
       "17.5"
      ]
     },
     "execution_count": 2,
     "metadata": {},
     "output_type": "execute_result"
    }
   ],
   "source": [
    "abs(17.5) # absolute value"
   ]
  },
  {
   "cell_type": "code",
   "execution_count": 33,
   "id": "54c7e40e",
   "metadata": {},
   "outputs": [
    {
     "data": {
      "text/plain": [
       "9"
      ]
     },
     "execution_count": 33,
     "metadata": {},
     "output_type": "execute_result"
    }
   ],
   "source": [
    "abs(2 * 3 - (12 + 3)) "
   ]
  },
  {
   "cell_type": "code",
   "execution_count": 34,
   "id": "63191c40",
   "metadata": {},
   "outputs": [
    {
     "name": "stdout",
     "output_type": "stream",
     "text": [
      "-9\n"
     ]
    }
   ],
   "source": [
    "print(2 * 3 - (12 + 3)) "
   ]
  },
  {
   "cell_type": "code",
   "execution_count": 35,
   "id": "b9d9a420",
   "metadata": {},
   "outputs": [
    {
     "data": {
      "text/plain": [
       "float"
      ]
     },
     "execution_count": 35,
     "metadata": {},
     "output_type": "execute_result"
    }
   ],
   "source": [
    "type(9.8) # tells the datatype of the parameter passed"
   ]
  },
  {
   "cell_type": "code",
   "execution_count": 36,
   "id": "e73b6a8d",
   "metadata": {},
   "outputs": [
    {
     "data": {
      "text/plain": [
       "int"
      ]
     },
     "execution_count": 36,
     "metadata": {},
     "output_type": "execute_result"
    }
   ],
   "source": [
    "type(8)"
   ]
  },
  {
   "cell_type": "code",
   "execution_count": 37,
   "id": "f1f97fb4",
   "metadata": {},
   "outputs": [
    {
     "data": {
      "text/plain": [
       "str"
      ]
     },
     "execution_count": 37,
     "metadata": {},
     "output_type": "execute_result"
    }
   ],
   "source": [
    "type(\"String\")"
   ]
  },
  {
   "cell_type": "code",
   "execution_count": 38,
   "id": "1dbc26d7",
   "metadata": {},
   "outputs": [
    {
     "data": {
      "text/plain": [
       "str"
      ]
     },
     "execution_count": 38,
     "metadata": {},
     "output_type": "execute_result"
    }
   ],
   "source": [
    "type(\"12\") # anything under \" \" is treated as string"
   ]
  },
  {
   "cell_type": "code",
   "execution_count": 39,
   "id": "49880d89",
   "metadata": {},
   "outputs": [
    {
     "data": {
      "text/plain": [
       "str"
      ]
     },
     "execution_count": 39,
     "metadata": {},
     "output_type": "execute_result"
    }
   ],
   "source": [
    "type(\" 2 + 3\")"
   ]
  },
  {
   "cell_type": "code",
   "execution_count": 40,
   "id": "fddd81e8",
   "metadata": {},
   "outputs": [
    {
     "data": {
      "text/plain": [
       "12"
      ]
     },
     "execution_count": 40,
     "metadata": {},
     "output_type": "execute_result"
    }
   ],
   "source": [
    "round(12.2) # used to display the round of value or the nearest value"
   ]
  },
  {
   "cell_type": "code",
   "execution_count": 41,
   "id": "4b6efff3",
   "metadata": {},
   "outputs": [
    {
     "data": {
      "text/plain": [
       "-13"
      ]
     },
     "execution_count": 41,
     "metadata": {},
     "output_type": "execute_result"
    }
   ],
   "source": [
    "round(-12.8)"
   ]
  },
  {
   "cell_type": "code",
   "execution_count": 42,
   "id": "dcbbb8dd",
   "metadata": {},
   "outputs": [
    {
     "data": {
      "text/plain": [
       "34"
      ]
     },
     "execution_count": 42,
     "metadata": {},
     "output_type": "execute_result"
    }
   ],
   "source": [
    "max(12, 1, 3, 23.9, 34, 2 , 1)  #returns the maximum value passed in the list"
   ]
  },
  {
   "cell_type": "code",
   "execution_count": 43,
   "id": "d2a899b6",
   "metadata": {},
   "outputs": [
    {
     "data": {
      "text/plain": [
       "-9"
      ]
     },
     "execution_count": 43,
     "metadata": {},
     "output_type": "execute_result"
    }
   ],
   "source": [
    "min(23, -1, 3.8, -9, 4)    #returns the minimum value passed in the list"
   ]
  },
  {
   "cell_type": "code",
   "execution_count": null,
   "id": "3dc4288d",
   "metadata": {},
   "outputs": [],
   "source": [
    "# Many more built-in functions supported by Python3 can be found online. Here, is the URL of all the function list:\n",
    "# https://docs.python.org/3.9/library/functions.html"
   ]
  },
  {
   "cell_type": "code",
   "execution_count": null,
   "id": "d6c41859",
   "metadata": {},
   "outputs": [],
   "source": []
  },
  {
   "cell_type": "code",
   "execution_count": null,
   "id": "84bc0d11",
   "metadata": {},
   "outputs": [],
   "source": []
  }
 ],
 "metadata": {
  "kernelspec": {
   "display_name": "Python 3 (ipykernel)",
   "language": "python",
   "name": "python3"
  },
  "language_info": {
   "codemirror_mode": {
    "name": "ipython",
    "version": 3
   },
   "file_extension": ".py",
   "mimetype": "text/x-python",
   "name": "python",
   "nbconvert_exporter": "python",
   "pygments_lexer": "ipython3",
   "version": "3.9.7"
  }
 },
 "nbformat": 4,
 "nbformat_minor": 5
}
